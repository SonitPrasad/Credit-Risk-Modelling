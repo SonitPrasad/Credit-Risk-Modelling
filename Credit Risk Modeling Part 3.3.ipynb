{
 "cells": [
  {
   "cell_type": "code",
   "execution_count": 1,
   "id": "7fdd2247",
   "metadata": {},
   "outputs": [],
   "source": [
    "import pandas as pd\n",
    "import numpy as np"
   ]
  },
  {
   "cell_type": "code",
   "execution_count": 2,
   "id": "102d52a6",
   "metadata": {},
   "outputs": [],
   "source": [
    "#In loan_data_preprocessed we conatenated PD data and LGD and EAD data and it was possible because \n",
    "#the indices of both these dataframe are same."
   ]
  },
  {
   "cell_type": "code",
   "execution_count": 3,
   "id": "e1c70d4c",
   "metadata": {},
   "outputs": [
    {
     "name": "stderr",
     "output_type": "stream",
     "text": [
      "C:\\Users\\Sonit Prasad\\AppData\\Local\\Temp\\ipykernel_1300\\2058194596.py:1: DtypeWarning: Columns (23,51) have mixed types. Specify dtype option on import or set low_memory=False.\n",
      "  loan_data_preprocessed_new=pd.read_csv('loan_data_preprocessed_new.csv')\n"
     ]
    }
   ],
   "source": [
    "loan_data_preprocessed_new=pd.read_csv('loan_data_preprocessed_new.csv')"
   ]
  },
  {
   "cell_type": "code",
   "execution_count": 4,
   "id": "1855ee12",
   "metadata": {},
   "outputs": [
    {
     "data": {
      "text/html": [
       "<div>\n",
       "<style scoped>\n",
       "    .dataframe tbody tr th:only-of-type {\n",
       "        vertical-align: middle;\n",
       "    }\n",
       "\n",
       "    .dataframe tbody tr th {\n",
       "        vertical-align: top;\n",
       "    }\n",
       "\n",
       "    .dataframe thead th {\n",
       "        text-align: right;\n",
       "    }\n",
       "</style>\n",
       "<table border=\"1\" class=\"dataframe\">\n",
       "  <thead>\n",
       "    <tr style=\"text-align: right;\">\n",
       "      <th></th>\n",
       "      <th>Unnamed: 0.4</th>\n",
       "      <th>Unnamed: 0.2</th>\n",
       "      <th>Unnamed: 0.1</th>\n",
       "      <th>Unnamed: 0</th>\n",
       "      <th>id</th>\n",
       "      <th>member_id</th>\n",
       "      <th>loan_amnt</th>\n",
       "      <th>funded_amnt</th>\n",
       "      <th>funded_amnt_inv</th>\n",
       "      <th>term</th>\n",
       "      <th>...</th>\n",
       "      <th>dti:22.4-35</th>\n",
       "      <th>dti:&gt;35</th>\n",
       "      <th>mths_since_last_record:Missing</th>\n",
       "      <th>mths_since_last_record:0-2</th>\n",
       "      <th>mths_since_last_record:3-20</th>\n",
       "      <th>mths_since_last_record:21-31</th>\n",
       "      <th>mths_since_last_record:32-80</th>\n",
       "      <th>mths_since_last_record:81-86</th>\n",
       "      <th>mths_since_last_record:&gt;86</th>\n",
       "      <th>PD</th>\n",
       "    </tr>\n",
       "  </thead>\n",
       "  <tbody>\n",
       "    <tr>\n",
       "      <th>0</th>\n",
       "      <td>0</td>\n",
       "      <td>0</td>\n",
       "      <td>0</td>\n",
       "      <td>0</td>\n",
       "      <td>1077501</td>\n",
       "      <td>1296599</td>\n",
       "      <td>5000</td>\n",
       "      <td>5000</td>\n",
       "      <td>4975.0</td>\n",
       "      <td>36 months</td>\n",
       "      <td>...</td>\n",
       "      <td>0</td>\n",
       "      <td>0</td>\n",
       "      <td>1</td>\n",
       "      <td>0</td>\n",
       "      <td>0</td>\n",
       "      <td>0</td>\n",
       "      <td>0</td>\n",
       "      <td>0</td>\n",
       "      <td>0</td>\n",
       "      <td>0.029585</td>\n",
       "    </tr>\n",
       "    <tr>\n",
       "      <th>1</th>\n",
       "      <td>1</td>\n",
       "      <td>1</td>\n",
       "      <td>1</td>\n",
       "      <td>1</td>\n",
       "      <td>1077430</td>\n",
       "      <td>1314167</td>\n",
       "      <td>2500</td>\n",
       "      <td>2500</td>\n",
       "      <td>2500.0</td>\n",
       "      <td>60 months</td>\n",
       "      <td>...</td>\n",
       "      <td>0</td>\n",
       "      <td>0</td>\n",
       "      <td>1</td>\n",
       "      <td>0</td>\n",
       "      <td>0</td>\n",
       "      <td>0</td>\n",
       "      <td>0</td>\n",
       "      <td>0</td>\n",
       "      <td>0</td>\n",
       "      <td>0.092147</td>\n",
       "    </tr>\n",
       "    <tr>\n",
       "      <th>2</th>\n",
       "      <td>2</td>\n",
       "      <td>2</td>\n",
       "      <td>2</td>\n",
       "      <td>2</td>\n",
       "      <td>1077175</td>\n",
       "      <td>1313524</td>\n",
       "      <td>2400</td>\n",
       "      <td>2400</td>\n",
       "      <td>2400.0</td>\n",
       "      <td>36 months</td>\n",
       "      <td>...</td>\n",
       "      <td>0</td>\n",
       "      <td>0</td>\n",
       "      <td>1</td>\n",
       "      <td>0</td>\n",
       "      <td>0</td>\n",
       "      <td>0</td>\n",
       "      <td>0</td>\n",
       "      <td>0</td>\n",
       "      <td>0</td>\n",
       "      <td>0.037358</td>\n",
       "    </tr>\n",
       "    <tr>\n",
       "      <th>3</th>\n",
       "      <td>3</td>\n",
       "      <td>3</td>\n",
       "      <td>3</td>\n",
       "      <td>3</td>\n",
       "      <td>1076863</td>\n",
       "      <td>1277178</td>\n",
       "      <td>10000</td>\n",
       "      <td>10000</td>\n",
       "      <td>10000.0</td>\n",
       "      <td>36 months</td>\n",
       "      <td>...</td>\n",
       "      <td>0</td>\n",
       "      <td>0</td>\n",
       "      <td>1</td>\n",
       "      <td>0</td>\n",
       "      <td>0</td>\n",
       "      <td>0</td>\n",
       "      <td>0</td>\n",
       "      <td>0</td>\n",
       "      <td>0</td>\n",
       "      <td>0.204335</td>\n",
       "    </tr>\n",
       "    <tr>\n",
       "      <th>4</th>\n",
       "      <td>4</td>\n",
       "      <td>4</td>\n",
       "      <td>4</td>\n",
       "      <td>4</td>\n",
       "      <td>1075358</td>\n",
       "      <td>1311748</td>\n",
       "      <td>3000</td>\n",
       "      <td>3000</td>\n",
       "      <td>3000.0</td>\n",
       "      <td>60 months</td>\n",
       "      <td>...</td>\n",
       "      <td>1</td>\n",
       "      <td>0</td>\n",
       "      <td>1</td>\n",
       "      <td>0</td>\n",
       "      <td>0</td>\n",
       "      <td>0</td>\n",
       "      <td>0</td>\n",
       "      <td>0</td>\n",
       "      <td>0</td>\n",
       "      <td>0.200837</td>\n",
       "    </tr>\n",
       "  </tbody>\n",
       "</table>\n",
       "<p>5 rows × 543 columns</p>\n",
       "</div>"
      ],
      "text/plain": [
       "   Unnamed: 0.4  Unnamed: 0.2  Unnamed: 0.1  Unnamed: 0       id  member_id  \\\n",
       "0             0             0             0           0  1077501    1296599   \n",
       "1             1             1             1           1  1077430    1314167   \n",
       "2             2             2             2           2  1077175    1313524   \n",
       "3             3             3             3           3  1076863    1277178   \n",
       "4             4             4             4           4  1075358    1311748   \n",
       "\n",
       "   loan_amnt  funded_amnt  funded_amnt_inv        term  ...  dti:22.4-35  \\\n",
       "0       5000         5000           4975.0   36 months  ...            0   \n",
       "1       2500         2500           2500.0   60 months  ...            0   \n",
       "2       2400         2400           2400.0   36 months  ...            0   \n",
       "3      10000        10000          10000.0   36 months  ...            0   \n",
       "4       3000         3000           3000.0   60 months  ...            1   \n",
       "\n",
       "   dti:>35 mths_since_last_record:Missing mths_since_last_record:0-2  \\\n",
       "0        0                              1                          0   \n",
       "1        0                              1                          0   \n",
       "2        0                              1                          0   \n",
       "3        0                              1                          0   \n",
       "4        0                              1                          0   \n",
       "\n",
       "  mths_since_last_record:3-20 mths_since_last_record:21-31  \\\n",
       "0                           0                            0   \n",
       "1                           0                            0   \n",
       "2                           0                            0   \n",
       "3                           0                            0   \n",
       "4                           0                            0   \n",
       "\n",
       "  mths_since_last_record:32-80  mths_since_last_record:81-86  \\\n",
       "0                            0                             0   \n",
       "1                            0                             0   \n",
       "2                            0                             0   \n",
       "3                            0                             0   \n",
       "4                            0                             0   \n",
       "\n",
       "  mths_since_last_record:>86        PD  \n",
       "0                          0  0.029585  \n",
       "1                          0  0.092147  \n",
       "2                          0  0.037358  \n",
       "3                          0  0.204335  \n",
       "4                          0  0.200837  \n",
       "\n",
       "[5 rows x 543 columns]"
      ]
     },
     "execution_count": 4,
     "metadata": {},
     "output_type": "execute_result"
    }
   ],
   "source": [
    "loan_data_preprocessed_new.head()"
   ]
  },
  {
   "cell_type": "code",
   "execution_count": 5,
   "id": "a4d3c1b4",
   "metadata": {},
   "outputs": [],
   "source": [
    "loan_data_preprocessed_new['EL'] = loan_data_preprocessed_new['PD'] * loan_data_preprocessed_new['LGD'] * loan_data_preprocessed_new['EAD']\n",
    "# We calculate Expected Loss. EL = PD * LGD * EAD."
   ]
  },
  {
   "cell_type": "code",
   "execution_count": 6,
   "id": "be7ad159",
   "metadata": {},
   "outputs": [
    {
     "data": {
      "text/plain": [
       "count    466285.000000\n",
       "mean       1084.773247\n",
       "std        1085.934456\n",
       "min           4.247836\n",
       "25%         361.662560\n",
       "50%         737.618217\n",
       "75%        1425.660896\n",
       "max       16175.275755\n",
       "Name: EL, dtype: float64"
      ]
     },
     "execution_count": 6,
     "metadata": {},
     "output_type": "execute_result"
    }
   ],
   "source": [
    "loan_data_preprocessed_new['EL'].describe()\n",
    "# Shows some descriptive statisics for the values of a column."
   ]
  },
  {
   "cell_type": "code",
   "execution_count": 7,
   "id": "2b47b829",
   "metadata": {},
   "outputs": [],
   "source": [
    "#Average expected loss per exposure is about 1084.77\n",
    "\n",
    "#We can also check the expected loss for every single loan."
   ]
  },
  {
   "cell_type": "code",
   "execution_count": 8,
   "id": "2583f6c0",
   "metadata": {},
   "outputs": [
    {
     "data": {
      "text/html": [
       "<div>\n",
       "<style scoped>\n",
       "    .dataframe tbody tr th:only-of-type {\n",
       "        vertical-align: middle;\n",
       "    }\n",
       "\n",
       "    .dataframe tbody tr th {\n",
       "        vertical-align: top;\n",
       "    }\n",
       "\n",
       "    .dataframe thead th {\n",
       "        text-align: right;\n",
       "    }\n",
       "</style>\n",
       "<table border=\"1\" class=\"dataframe\">\n",
       "  <thead>\n",
       "    <tr style=\"text-align: right;\">\n",
       "      <th></th>\n",
       "      <th>funded_amnt</th>\n",
       "      <th>PD</th>\n",
       "      <th>LGD</th>\n",
       "      <th>EAD</th>\n",
       "      <th>EL</th>\n",
       "    </tr>\n",
       "  </thead>\n",
       "  <tbody>\n",
       "    <tr>\n",
       "      <th>0</th>\n",
       "      <td>5000</td>\n",
       "      <td>0.029585</td>\n",
       "      <td>0.913729</td>\n",
       "      <td>2949.608449</td>\n",
       "      <td>79.734651</td>\n",
       "    </tr>\n",
       "    <tr>\n",
       "      <th>1</th>\n",
       "      <td>2500</td>\n",
       "      <td>0.092147</td>\n",
       "      <td>0.915482</td>\n",
       "      <td>1944.433378</td>\n",
       "      <td>164.029423</td>\n",
       "    </tr>\n",
       "    <tr>\n",
       "      <th>2</th>\n",
       "      <td>2400</td>\n",
       "      <td>0.037358</td>\n",
       "      <td>0.919484</td>\n",
       "      <td>1579.934302</td>\n",
       "      <td>54.271104</td>\n",
       "    </tr>\n",
       "    <tr>\n",
       "      <th>3</th>\n",
       "      <td>10000</td>\n",
       "      <td>0.204335</td>\n",
       "      <td>0.904924</td>\n",
       "      <td>6606.559612</td>\n",
       "      <td>1221.601109</td>\n",
       "    </tr>\n",
       "    <tr>\n",
       "      <th>4</th>\n",
       "      <td>3000</td>\n",
       "      <td>0.200837</td>\n",
       "      <td>0.911453</td>\n",
       "      <td>2124.631667</td>\n",
       "      <td>388.920532</td>\n",
       "    </tr>\n",
       "  </tbody>\n",
       "</table>\n",
       "</div>"
      ],
      "text/plain": [
       "   funded_amnt        PD       LGD          EAD           EL\n",
       "0         5000  0.029585  0.913729  2949.608449    79.734651\n",
       "1         2500  0.092147  0.915482  1944.433378   164.029423\n",
       "2         2400  0.037358  0.919484  1579.934302    54.271104\n",
       "3        10000  0.204335  0.904924  6606.559612  1221.601109\n",
       "4         3000  0.200837  0.911453  2124.631667   388.920532"
      ]
     },
     "execution_count": 8,
     "metadata": {},
     "output_type": "execute_result"
    }
   ],
   "source": [
    "loan_data_preprocessed_new[['funded_amnt', 'PD', 'LGD', 'EAD', 'EL']].head()"
   ]
  },
  {
   "cell_type": "code",
   "execution_count": 9,
   "id": "d7468d16",
   "metadata": {},
   "outputs": [],
   "source": [
    "#lets see index 1, funded amount is 2500 and expected loss out of it is 164.02"
   ]
  },
  {
   "cell_type": "code",
   "execution_count": 10,
   "id": "b536e9f2",
   "metadata": {},
   "outputs": [
    {
     "data": {
      "text/plain": [
       "count    466285.000000\n",
       "mean      14291.801044\n",
       "std        8274.371300\n",
       "min         500.000000\n",
       "25%        8000.000000\n",
       "50%       12000.000000\n",
       "75%       20000.000000\n",
       "max       35000.000000\n",
       "Name: funded_amnt, dtype: float64"
      ]
     },
     "execution_count": 10,
     "metadata": {},
     "output_type": "execute_result"
    }
   ],
   "source": [
    "loan_data_preprocessed_new['funded_amnt'].describe()"
   ]
  },
  {
   "cell_type": "code",
   "execution_count": 11,
   "id": "44876a75",
   "metadata": {},
   "outputs": [
    {
     "data": {
      "text/plain": [
       "505813493.66850203"
      ]
     },
     "execution_count": 11,
     "metadata": {},
     "output_type": "execute_result"
    }
   ],
   "source": [
    "loan_data_preprocessed_new['EL'].sum()\n",
    "# Total Expected Loss for all loans."
   ]
  },
  {
   "cell_type": "code",
   "execution_count": 12,
   "id": "a84ce8fa",
   "metadata": {},
   "outputs": [],
   "source": [
    "#the above is the total loss"
   ]
  },
  {
   "cell_type": "code",
   "execution_count": 13,
   "id": "10d544af",
   "metadata": {},
   "outputs": [
    {
     "data": {
      "text/plain": [
       "6664052450"
      ]
     },
     "execution_count": 13,
     "metadata": {},
     "output_type": "execute_result"
    }
   ],
   "source": [
    "loan_data_preprocessed_new['funded_amnt'].sum()\n",
    "# Total funded amount for all loans."
   ]
  },
  {
   "cell_type": "code",
   "execution_count": 14,
   "id": "6c9fc91b",
   "metadata": {},
   "outputs": [
    {
     "data": {
      "text/plain": [
       "0.0759017876080045"
      ]
     },
     "execution_count": 14,
     "metadata": {},
     "output_type": "execute_result"
    }
   ],
   "source": [
    "loan_data_preprocessed_new['EL'].sum() / loan_data_preprocessed_new['funded_amnt'].sum()\n",
    "# Total Expected Loss as a proportion of total funded amount for all loans.\n",
    "####\n",
    "####\n",
    "####\n",
    "# THE END."
   ]
  },
  {
   "cell_type": "code",
   "execution_count": null,
   "id": "06f96978",
   "metadata": {},
   "outputs": [],
   "source": [
    "#Banks holds 10% of capital so the percentage should be below 10% and in this case it is."
   ]
  },
  {
   "cell_type": "code",
   "execution_count": null,
   "id": "d1a8ce99",
   "metadata": {},
   "outputs": [],
   "source": []
  },
  {
   "cell_type": "code",
   "execution_count": null,
   "id": "85d835ae",
   "metadata": {},
   "outputs": [],
   "source": []
  },
  {
   "cell_type": "code",
   "execution_count": null,
   "id": "58292221",
   "metadata": {},
   "outputs": [],
   "source": []
  }
 ],
 "metadata": {
  "kernelspec": {
   "display_name": "Python 3 (ipykernel)",
   "language": "python",
   "name": "python3"
  },
  "language_info": {
   "codemirror_mode": {
    "name": "ipython",
    "version": 3
   },
   "file_extension": ".py",
   "mimetype": "text/x-python",
   "name": "python",
   "nbconvert_exporter": "python",
   "pygments_lexer": "ipython3",
   "version": "3.11.3"
  }
 },
 "nbformat": 4,
 "nbformat_minor": 5
}
